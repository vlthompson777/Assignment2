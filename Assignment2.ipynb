{
 "cells": [
  {
   "cell_type": "code",
   "execution_count": 9,
   "metadata": {},
   "outputs": [
    {
     "name": "stdout",
     "output_type": "stream",
     "text": [
      "Enter a sequence of numbers separated by commas: 2,5,8,132,74,464\n",
      "['2', '5', '8', '132', '74', '464']\n"
     ]
    },
    {
     "data": {
      "text/plain": [
       "list"
      ]
     },
     "execution_count": 9,
     "metadata": {},
     "output_type": "execute_result"
    }
   ],
   "source": [
    "#Write a program which accepts a sequence of comma-separated numbers from console and generate a list.\n",
    "list1=list()\n",
    "input_ = input(\"Enter a sequence of numbers separated by commas: \")\n",
    "for i in input_.split(','):\n",
    "    list1.append(i)\n",
    "print (list1)\n",
    "type(list1)"
   ]
  },
  {
   "cell_type": "code",
   "execution_count": 2,
   "metadata": {},
   "outputs": [
    {
     "name": "stdout",
     "output_type": "stream",
     "text": [
      "*\n",
      "**\n",
      "***\n",
      "****\n",
      "*****\n",
      "****\n",
      "***\n",
      "**\n",
      "*\n"
     ]
    }
   ],
   "source": [
    "#Create the pattern using nested for loop in Python.\n",
    "for i in range(1,6):  #loop to print first 5 lines\n",
    "    result = \"*\" * i\n",
    "    print(result)\n",
    "    for x in range(1,2): #since only one range is needed to accomplish this task, this loop does nothing\n",
    "        continue\n",
    "for i in range(4,0,-1): #loop to print last 4 lines\n",
    "    result2 = \"*\" * i\n",
    "    print(result2)\n",
    "    for x in range(1,2):\n",
    "        continue"
   ]
  },
  {
   "cell_type": "code",
   "execution_count": 28,
   "metadata": {},
   "outputs": [
    {
     "name": "stdout",
     "output_type": "stream",
     "text": [
      "Please type a word to see it reversed: AcadGild\n",
      "dliGdacA\n"
     ]
    }
   ],
   "source": [
    "feedback = input(\"Please type a word to see it reversed: \")\n",
    "print(feedback[::-1])"
   ]
  },
  {
   "cell_type": "code",
   "execution_count": 46,
   "metadata": {},
   "outputs": [
    {
     "name": "stdout",
     "output_type": "stream",
     "text": [
      "WE, THE PEOPLE OF INDIA, \n",
      "     having solemnly resolved to constitute India into a SOVEREIGN,!\n",
      "\t   SOCIALIST, SECULAR, DEMOCRATIC REPUBLIC\n",
      "\t    and to secure to all its citizens\n"
     ]
    }
   ],
   "source": [
    "str1 = \"\"\"WE, THE PEOPLE OF INDIA, \\n     having solemnly resolved to constitute India into a SOVEREIGN,!\n",
    "\\t   SOCIALIST, SECULAR, DEMOCRATIC REPUBLIC\\n\\t    and to secure to all its citizens\"\"\"\n",
    "print (str1)"
   ]
  }
 ],
 "metadata": {
  "kernelspec": {
   "display_name": "Python 3",
   "language": "python",
   "name": "python3"
  },
  "language_info": {
   "codemirror_mode": {
    "name": "ipython",
    "version": 3
   },
   "file_extension": ".py",
   "mimetype": "text/x-python",
   "name": "python",
   "nbconvert_exporter": "python",
   "pygments_lexer": "ipython3",
   "version": "3.6.5"
  }
 },
 "nbformat": 4,
 "nbformat_minor": 2
}
